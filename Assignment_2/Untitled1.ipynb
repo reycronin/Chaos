{
 "cells": [
  {
   "cell_type": "code",
   "execution_count": 38,
   "metadata": {},
   "outputs": [
    {
     "name": "stdout",
     "output_type": "stream",
     "text": [
      "0.49999999999999994\n",
      "-1.3823266173271498\n",
      "0.6306651245663317\n"
     ]
    }
   ],
   "source": [
    "\n",
    "#forward euler for SHO with no friction\n",
    "\n",
    "def xp(v):\n",
    "    return v\n",
    "\n",
    "def vp(g, k, m, x):\n",
    "    return(g - k / m * x)\n",
    "\n",
    "def forward(m, g, k, dt, xo, vo):\n",
    "    x = xo\n",
    "    v = vo\n",
    "    t = 0\n",
    "    for i in range (10):\n",
    "        x_temp = x\n",
    "        x = x + dt/2 *(v + (v + dt * vp(g, k , m, x)))\n",
    "        v = v + dt/2 * (vp(g, k , m, x_temp) + vp(g, k , m, x_temp) + dt*vp(g, k , m, x))\n",
    "        t = dt + t\n",
    "        \n",
    "    print(t)\n",
    "    return x,v\n",
    "\n",
    "k = 2 \n",
    "m = .5\n",
    "g = 0\n",
    "dt = 0.05\n",
    "xo = -1\n",
    "vo = -2\n",
    "\n",
    "x, v = forward(m,g,k,dt, xo, vo)\n",
    "\n",
    "print(x)\n",
    "print(v)\n",
    "\n",
    "    \n",
    "    \n"
   ]
  },
  {
   "cell_type": "code",
   "execution_count": 23,
   "metadata": {},
   "outputs": [
    {
     "name": "stdout",
     "output_type": "stream",
     "text": [
      "0.5\n",
      "-0.4307982176\n",
      "-0.37560292479999996\n"
     ]
    }
   ],
   "source": [
    "\n",
    "#forward euler for SHO with no friction\n",
    "\n",
    "def xp(v):\n",
    "    return v\n",
    "\n",
    "def vp(g, k, m, x):\n",
    "    return(g - k / m * x)\n",
    "\n",
    "def forward(m, g, k, dt, xo, vo):\n",
    "    x = xo\n",
    "    v = vo\n",
    "    t = 0\n",
    "    for i in range (5):\n",
    "        x_temp = x\n",
    "        xfe = x + dt * v\n",
    "        x = x + dt/2 *(v + vp(g, k , m, (x + dt * v)))\n",
    "        v = v + dt/2 * (vp(g, k , m, x_temp) + vp(g, k , m, (v + dt * vp(g, k , m, x_temp))))\n",
    "        t = dt + t\n",
    "        \n",
    "    print(t)\n",
    "    return x,v\n",
    "\n",
    "k = 2 \n",
    "m = .5\n",
    "g = 0\n",
    "dt = 0.1\n",
    "xo = -1\n",
    "vo = -2\n",
    "\n",
    "x, v = forward(m,g,k,dt, xo, vo)\n",
    "\n",
    "print(x)\n",
    "print(v)\n",
    "\n",
    "    \n",
    "    \n"
   ]
  },
  {
   "cell_type": "code",
   "execution_count": 23,
   "metadata": {},
   "outputs": [
    {
     "name": "stdout",
     "output_type": "stream",
     "text": [
      "0.5\n",
      "-0.4307982176\n",
      "-0.37560292479999996\n"
     ]
    }
   ],
   "source": [
    "\n",
    "#forward euler for SHO with no friction\n",
    "\n",
    "def xp(v):\n",
    "    return v\n",
    "\n",
    "def vp(g, k, m, x):\n",
    "    return(g - k / m * x)\n",
    "\n",
    "def forward(m, g, k, dt, xo, vo):\n",
    "    x = xo\n",
    "    v = vo\n",
    "    t = 0\n",
    "    for i in range (5):\n",
    "        x_temp = x\n",
    "        xfe = x + dt * v\n",
    "        x = x + dt/2 *(v + vp(g, k , m, (x + dt * v)))\n",
    "        v = v + dt/2 * (vp(g, k , m, x_temp) + vp(g, k , m, (v + dt * vp(g, k , m, x_temp))))\n",
    "        t = dt + t\n",
    "        \n",
    "    print(t)\n",
    "    return x,v\n",
    "\n",
    "k = 2 \n",
    "m = .5\n",
    "g = 0\n",
    "dt = 0.1\n",
    "xo = -1\n",
    "vo = -2\n",
    "\n",
    "x, v = forward(m,g,k,dt, xo, vo)\n",
    "\n",
    "print(x)\n",
    "print(v)\n",
    "\n",
    "    \n",
    "    \n"
   ]
  },
  {
   "cell_type": "code",
   "execution_count": 34,
   "metadata": {},
   "outputs": [
    {
     "name": "stdout",
     "output_type": "stream",
     "text": [
      "0.5\n",
      "-1.7515000831999998\n",
      "-2.9177473536000003\n"
     ]
    }
   ],
   "source": [
    "\n",
    "#forward euler for SHO with no friction\n",
    "\n",
    "def xp(v):\n",
    "    return v\n",
    "\n",
    "def vp(g, k, m, x):\n",
    "    return(g - k / m * x)\n",
    "\n",
    "def backward(m, g, k, dt, xo, vo):\n",
    "    x = xo\n",
    "    v = vo\n",
    "    t = 0\n",
    "    for i in range (4):\n",
    "        x_curr = x\n",
    "        v_curr = v\n",
    "        xFE = x_curr + dt * v\n",
    "        vFE = v_curr + dt *  vp(g,k,m,x_curr)\n",
    "        t = dt + t\n",
    "        x = x_curr + dt * xFE\n",
    "        v = v_curr + dt * vFE\n",
    "        \n",
    "    print(t)\n",
    "    return x,v\n",
    "\n",
    "k = 2 \n",
    "m = .5\n",
    "g = 0\n",
    "dt = 0.1\n",
    "xo = -1\n",
    "vo = -2\n",
    "\n",
    "x, y = backward(m,g,k,dt, xo, vo)\n",
    "\n",
    "print(x)\n",
    "print(y)\n"
   ]
  }
 ],
 "metadata": {
  "kernelspec": {
   "display_name": "Python 3",
   "language": "python",
   "name": "python3"
  },
  "language_info": {
   "codemirror_mode": {
    "name": "ipython",
    "version": 3
   },
   "file_extension": ".py",
   "mimetype": "text/x-python",
   "name": "python",
   "nbconvert_exporter": "python",
   "pygments_lexer": "ipython3",
   "version": "3.6.9"
  }
 },
 "nbformat": 4,
 "nbformat_minor": 2
}
