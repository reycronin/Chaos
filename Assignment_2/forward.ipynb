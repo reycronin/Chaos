{
 "cells": [
  {
   "cell_type": "code",
   "execution_count": 20,
   "metadata": {},
   "outputs": [
    {
     "name": "stdout",
     "output_type": "stream",
     "text": [
      "0.9999999999999999\n",
      "-0.6417842175999999\n",
      "3.1928680448\n"
     ]
    }
   ],
   "source": [
    "\n",
    "#forward euler for SHO with no friction\n",
    "\n",
    "def xp(v):\n",
    "    return v\n",
    "\n",
    "def vp(g, k, m, x):\n",
    "    return(g - k / m * x)\n",
    "\n",
    "def forward(m, g, k, dt, xo, vo):\n",
    "    x = xo\n",
    "    v = vo\n",
    "    t = 0\n",
    "    for i in range (10):\n",
    "        x_temp = x\n",
    "        x = x + dt * v\n",
    "        v = v + dt * vp(g, k , m, x_temp)\n",
    "        t = dt + t\n",
    "        \n",
    "    print(t)\n",
    "    return x,v\n",
    "\n",
    "k = 2 \n",
    "m = .5\n",
    "g = 0\n",
    "dt = 0.1\n",
    "xo = -1\n",
    "vo = -2\n",
    "\n",
    "x, y = forward(m,g,k,dt, xo, vo)\n",
    "\n",
    "print(x)\n",
    "print(y)\n",
    "\n",
    "    \n",
    "    \n"
   ]
  },
  {
   "cell_type": "code",
   "execution_count": 59,
   "metadata": {},
   "outputs": [
    {
     "name": "stdout",
     "output_type": "stream",
     "text": [
      "pos -1.3814436142192141\n",
      "vel 0.607004438160726\n"
     ]
    }
   ],
   "source": [
    "\n",
    "#forward euler for SHO with no friction\n",
    "\n",
    "def xp(v):\n",
    "    return v\n",
    "\n",
    "def vp(x):\n",
    "    g = 0\n",
    "    m = .5\n",
    "    k = 2\n",
    "    return(g - k / m * x)\n",
    "\n",
    "def forward(n, dt, xo, vo):\n",
    "    xx = []\n",
    "    vv = []\n",
    "    vv.append(vo)\n",
    "    xx.append(xo)\n",
    "    for i in range (n):\n",
    "        x_curr = xx[-1]\n",
    "        v_curr = vv[-1]\n",
    "        xx.append(x_curr + dt * v_curr)\n",
    "        vv.append(v_curr + dt * vp(x_curr))        \n",
    "    #return v_curr, vp(x_curr)\n",
    "    return xx[-1], vv[-1]\n",
    "\n",
    "def forward2(n, dt, xo, vo):\n",
    "    xx = []\n",
    "    vv = []\n",
    "    vv.append(vo)\n",
    "    xx.append(xo)\n",
    "    for i in range (n):\n",
    "        x_curr = xx[-1]\n",
    "        v_curr = vv[-1]\n",
    "        xx.append(x_curr + dt * v_curr)\n",
    "        vv.append(v_curr + dt * vp(x_curr))        \n",
    "    return v_curr, vp(x_curr)\n",
    "\n",
    "\n",
    "def backward(n,dt,xo,vo):\n",
    "    xx = []\n",
    "    vv = []\n",
    "    vv.append(vo)\n",
    "    xx.append(xo)    \n",
    "    for i in range (n):\n",
    "        x_curr = xx[-1]\n",
    "        v_curr = vv[-1]\n",
    "        x_FE, v_FE = forward(1, dt, xx[-1], vv[-1])\n",
    "        xx.append(x_curr + dt * v_FE)\n",
    "        vv.append(v_curr + dt * vp(x_FE))        \n",
    "    return v_FE, vp(x_FE)\n",
    "    #return xx[-1], vv[-1]\n",
    "\n",
    "\n",
    "def trapezoidal(n,dt,xo,vo):\n",
    "    xx = []\n",
    "    vv = []\n",
    "    vv.append(vo)\n",
    "    xx.append(xo)    \n",
    "    for i in range (n):\n",
    "        x_curr = xx[-1]\n",
    "        v_curr = vv[-1]\n",
    "        dx_b, dv_b = backward(1,dt,x_curr,v_curr)\n",
    "        dx_f, dv_f = forward2(1,dt,x_curr,v_curr)\n",
    "        xx.append(x_curr + dt/2 * (dx_f + dx_b))\n",
    "        vv.append(v_curr + dt/2 * (dv_f + dv_b))        \n",
    "    return xx[-1], vv[-1] \n",
    "\n",
    "\n",
    "\n",
    "\n",
    "dt = 0.05\n",
    "xo = -1\n",
    "vo = -2\n",
    "time = .5\n",
    "\n",
    "n = int(time/dt)\n",
    "\n",
    "\n",
    "#x, v = forward(n ,dt, xo, vo)\n",
    "#x, v = backward(n, dt, xo, vo)\n",
    "x, v = trapezoidal(n,dt,xo,vo)\n",
    "\n",
    "\n",
    "print('pos', x)\n",
    "print('vel', v)\n",
    "\n"
   ]
  },
  {
   "cell_type": "code",
   "execution_count": 38,
   "metadata": {},
   "outputs": [
    {
     "ename": "NameError",
     "evalue": "name 'v' is not defined",
     "output_type": "error",
     "traceback": [
      "\u001b[0;31m---------------------------------------------------------------------------\u001b[0m",
      "\u001b[0;31mNameError\u001b[0m                                 Traceback (most recent call last)",
      "\u001b[0;32m<ipython-input-38-b7d3d55bf221>\u001b[0m in \u001b[0;36m<module>\u001b[0;34m\u001b[0m\n\u001b[0;32m----> 1\u001b[0;31m \u001b[0mv\u001b[0m\u001b[0;34m\u001b[0m\u001b[0m\n\u001b[0m\u001b[1;32m      2\u001b[0m \u001b[0;34m\u001b[0m\u001b[0m\n",
      "\u001b[0;31mNameError\u001b[0m: name 'v' is not defined"
     ]
    }
   ],
   "source": [
    "\n"
   ]
  },
  {
   "cell_type": "code",
   "execution_count": 19,
   "metadata": {},
   "outputs": [
    {
     "name": "stdout",
     "output_type": "stream",
     "text": [
      "[1 2]\n",
      "[1 2]\n"
     ]
    }
   ],
   "source": [
    "import numpy as np\n",
    "\n",
    "\n",
    "a = np.array([1,2])\n",
    "\n",
    "b = a.transpose()\n",
    "print(b)\n",
    "print(a)"
   ]
  }
 ],
 "metadata": {
  "kernelspec": {
   "display_name": "Python 3",
   "language": "python",
   "name": "python3"
  },
  "language_info": {
   "codemirror_mode": {
    "name": "ipython",
    "version": 3
   },
   "file_extension": ".py",
   "mimetype": "text/x-python",
   "name": "python",
   "nbconvert_exporter": "python",
   "pygments_lexer": "ipython3",
   "version": "3.6.9"
  }
 },
 "nbformat": 4,
 "nbformat_minor": 2
}
