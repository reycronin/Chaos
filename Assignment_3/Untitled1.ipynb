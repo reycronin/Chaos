{
 "cells": [
  {
   "cell_type": "code",
   "execution_count": 74,
   "metadata": {},
   "outputs": [
    {
     "data": {
      "image/png": "[encoded data removed]",
      "text/plain": [
       "<matplotlib.figure.Figure at 0x7fc0941e4978>"
      ]
     },
     "metadata": {
      "needs_background": "light"
     },
     "output_type": "display_data"
    }
   ],
   "source": [
    "import numpy as np\n",
    "import pylab as pl\n",
    "from matplotlib import collections  as mc\n",
    "import matplotlib.pyplot as plt\n",
    "\n",
    "def frac_tree(n):\n",
    "    # summation 2^n\n",
    "    lines = np.zeros((2**(n+1), 2, 2))\n",
    "    lines[0] = [[0, 0], [0, 10]]\n",
    "    lines[1] = [[-5,10], [5,10]]\n",
    "    for i in range(1,n+1):        \n",
    "        # if x's are the same then make next line horizontal\n",
    "        if lines[2**(i-1)][0][0] == lines[2**(i-1)][1][0]:\n",
    "            linelen = abs(lines[2**(i-1)][0][1] - lines[2**(i-1)][1][1])*.6\n",
    "            count = 0\n",
    "            for j in range(0,2**i,2):\n",
    "                x = lines[2**(i-1) + count][1][0] # x value              \n",
    "                yb = lines[2**(i-1) + count][0][1] # y bottom\n",
    "                lines[2**(i)+j] = [[x - linelen/2, yb],[x + linelen/2, yb]]\n",
    "                yu = lines[2**(i-1) + count][1][1]  # y upper                 \n",
    "                lines[2**(i)+j+1] = [[x - linelen/2, yu],[x + linelen/2, yu]]\n",
    "                count += 1\n",
    "        else: \n",
    "            linelen = abs(lines[2**(i-1)][0][0] - lines[2**(i-1)][1][0])*.6\n",
    "            count = 0\n",
    "            for j in range(0,2**i,2):\n",
    "                y = lines[2**(i-1) + count][0][1] # y value              \n",
    "                xl = lines[2**(i-1) + count][0][0] # x left\n",
    "                lines[2**(i)+j] = [[xl, y + linelen/2],[xl, y - linelen/2]]\n",
    "                xr = lines[2**(i-1) + count][1][0]  # x right\n",
    "                lines[2**(i)+j+1] = [[xr, y + linelen/2],[xr, y - linelen/2]]\n",
    "                count += 1                \n",
    "    return(lines)\n",
    "               \n",
    "             \n",
    "n = 6\n",
    "lines = frac_tree(n)\n",
    "lc = mc.LineCollection(lines, linewidths=1)\n",
    "r=6\n",
    "fig, ax = pl.subplots(figsize = (r,r))\n",
    "ax.add_collection(lc)\n",
    "#ax.autoscale()\n",
    "ax.set_xlim(-10,10)\n",
    "ax.set_ylim(-2,20)\n",
    "ax.margins(0.1)\n",
    "ax.autoscale(False)\n",
    "plt.show()"
   ]
  },
  {
   "cell_type": "code",
   "execution_count": null,
   "metadata": {},
   "outputs": [],
   "source": [
    " "
   ]
  }
 ],
 "metadata": {
  "kernelspec": {
   "display_name": "Python 3",
   "language": "python",
   "name": "python3"
  },
  "language_info": {
   "codemirror_mode": {
    "name": "ipython",
    "version": 3
   },
   "file_extension": ".py",
   "mimetype": "text/x-python",
   "name": "python",
   "nbconvert_exporter": "python",
   "pygments_lexer": "ipython3",
   "version": "3.6.6"
  }
 },
 "nbformat": 4,
 "nbformat_minor": 2
}
