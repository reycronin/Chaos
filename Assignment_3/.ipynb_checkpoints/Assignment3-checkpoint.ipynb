{
 "cells": [
  {
   "cell_type": "code",
   "execution_count": 2,
   "metadata": {},
   "outputs": [
    {
     "data": {
      "image/png": "[encoded data removed]",
      "text/plain": [
       "<matplotlib.figure.Figure at 0x7f1e63f45710>"
      ]
     },
     "metadata": {
      "needs_background": "light"
     },
     "output_type": "display_data"
    }
   ],
   "source": [
    "#comment\n",
    "import numpy as np\n",
    "import pylab as pl\n",
    "from matplotlib import collections  as mc\n",
    "import matplotlib.pyplot as plt\n",
    "\n",
    "\n",
    "lines = [[(0, 1), (1, 1)], [(2, 3), (3, 3)], [(1, 2), (1, 3)]]\n",
    "\n",
    "lc = mc.LineCollection(lines, linewidths=1)\n",
    "fig, ax = pl.subplots()\n",
    "ax.add_collection(lc)\n",
    "ax.autoscale()\n",
    "ax.margins(0.1)\n",
    "plt.show()\n",
    "\n",
    "\n"
   ]
  },
  {
   "cell_type": "code",
   "execution_count": 50,
   "metadata": {},
   "outputs": [
    {
     "data": {
      "image/png": "[encoded data removed]",
      "text/plain": [
       "<matplotlib.figure.Figure at 0x7fc8230089e8>"
      ]
     },
     "metadata": {
      "needs_background": "light"
     },
     "output_type": "display_data"
    }
   ],
   "source": [
    "import numpy as np\n",
    "import pylab as pl\n",
    "from matplotlib import collections  as mc\n",
    "import matplotlib.pyplot as plt\n",
    "\n",
    "def frac_tree(n):\n",
    "    # summation 2^n\n",
    "    lines = np.zeros((2**(n+1)-1, 2, 2))\n",
    "    lines[1] = [[0, 0], [0, 10]]\n",
    "    for i in range(1,n):        \n",
    "        # if x's are the same then make next line horizontal\n",
    "        if line[2**(i-1)][0][0] == line [2**(i-1)][1][0]:\n",
    "            linelen = abs(line[2**(i-1)][0][1] - line[2**(i-1)][1][1])*.5\n",
    "            for j in range(0,2**i,2):\n",
    "                sxb = line[2**(i-1)][0][0] #starting x bottom\n",
    "                yb = line[2**(i-1)][0][1] # y bottom\n",
    "                lines[2**(i-1)+j] = [[linelen/2 - sxb, yb],[linelen/2 + sxb, yb]]\n",
    "                sxu = line[2**(i-1)][1][0] # starting x upper\n",
    "                yu = line[2**(i-1)][1][1]  # y top                  \n",
    "                lines[2**(i-1)+j+1] = [[linelen/2 - sxu, yu],[linelen/2 + sxu, yu]]\n",
    "                \n",
    "                \n",
    " \n",
    "n = 1\n",
    "frac_tree(n)\n",
    "lc = mc.LineCollection(lines, linewidths=1)\n",
    "fig, ax = pl.subplots()\n",
    "ax.add_collection(lc)\n",
    "ax.autoscale()\n",
    "ax.margins(0.1)\n",
    "plt.show()"
   ]
  },
  {
   "cell_type": "code",
   "execution_count": 48,
   "metadata": {},
   "outputs": [
    {
     "name": "stdout",
     "output_type": "stream",
     "text": [
      "[[[ 0.  1.]\n",
      "  [ 1.  1.]]]\n"
     ]
    },
    {
     "data": {
      "image/png": "[encoded data removed]",
      "text/plain": [
       "<matplotlib.figure.Figure at 0x7fc822e0bc88>"
      ]
     },
     "metadata": {
      "needs_background": "light"
     },
     "output_type": "display_data"
    },
    {
     "name": "stdout",
     "output_type": "stream",
     "text": [
      "0\n"
     ]
    }
   ],
   "source": [
    "import numpy as np\n",
    "import pylab as pl\n",
    "from matplotlib import collections  as mc\n",
    "import matplotlib.pyplot as plt\n",
    "\n",
    "\n",
    "\n",
    "a = np.zeros((1,2,2))  \n",
    "\n",
    "'''\n",
    "a[0][0][0] = 0\n",
    "a[0][0][1] = 1\n",
    "a[0][1][0] = 1\n",
    "a[0][1][1] = 1\n",
    "'''\n",
    "\n",
    "a[0]= [(0, 1), (1, 1)] \n",
    "print(a)\n",
    "\n",
    "\n",
    "lc = mc.LineCollection(a, linewidths=1)\n",
    "fig, ax = pl.subplots()\n",
    "ax.add_collection(lc)\n",
    "ax.autoscale()\n",
    "ax.margins(0.1)\n",
    "plt.show()\n",
    "\n",
    "\n",
    "\n",
    "for i in range(0,2,2):\n",
    "    print(i)\n",
    "\n"
   ]
  },
  {
   "cell_type": "code",
   "execution_count": 3,
   "metadata": {},
   "outputs": [
    {
     "name": "stdout",
     "output_type": "stream",
     "text": [
      "[[[  0.     0.  ]\n",
      "  [  0.    10.  ]]\n",
      "\n",
      " [[ -5.    10.  ]\n",
      "  [  5.    10.  ]]\n",
      "\n",
      " [[ -5.    13.  ]\n",
      "  [ -5.     7.  ]]\n",
      "\n",
      " [[  5.    13.  ]\n",
      "  [  5.     7.  ]]\n",
      "\n",
      " [[ -6.8   13.  ]\n",
      "  [ -3.2   13.  ]]\n",
      "\n",
      " [[ -6.8    7.  ]\n",
      "  [ -3.2    7.  ]]\n",
      "\n",
      " [[  3.2   13.  ]\n",
      "  [  6.8   13.  ]]\n",
      "\n",
      " [[  3.2    7.  ]\n",
      "  [  6.8    7.  ]]\n",
      "\n",
      " [[ -6.8   14.08]\n",
      "  [ -6.8   11.92]]\n",
      "\n",
      " [[ -3.2   14.08]\n",
      "  [ -3.2   11.92]]\n",
      "\n",
      " [[ -6.8    8.08]\n",
      "  [ -6.8    5.92]]\n",
      "\n",
      " [[ -3.2    8.08]\n",
      "  [ -3.2    5.92]]\n",
      "\n",
      " [[  3.2   14.08]\n",
      "  [  3.2   11.92]]\n",
      "\n",
      " [[  6.8   14.08]\n",
      "  [  6.8   11.92]]\n",
      "\n",
      " [[  3.2    8.08]\n",
      "  [  3.2    5.92]]\n",
      "\n",
      " [[  6.8    8.08]\n",
      "  [  6.8    5.92]]]\n"
     ]
    },
    {
     "data": {
      "image/png": "[encoded data removed]",
      "text/plain": [
       "<matplotlib.figure.Figure at 0x7fae2c18c518>"
      ]
     },
     "metadata": {
      "needs_background": "light"
     },
     "output_type": "display_data"
    }
   ],
   "source": [
    "import numpy as np\n",
    "import pylab as pl\n",
    "from matplotlib import collections  as mc\n",
    "import matplotlib.pyplot as plt\n",
    "\n",
    "def frac_tree(n):\n",
    "    # summation 2^n\n",
    "    lines = np.zeros((2**(n+1), 2, 2))\n",
    "    lines[0] = [[0, 0], [0, 10]]\n",
    "    lines[1] = [[-5,10], [5,10]]\n",
    "    for i in range(1,n+1):        \n",
    "        # if x's are the same then make next line horizontal\n",
    "        if lines[2**(i-1)][0][0] == lines[2**(i-1)][1][0]:\n",
    "            linelen = abs(lines[2**(i-1)][0][1] - lines[2**(i-1)][1][1])*.6\n",
    "            count = 0\n",
    "            for j in range(0,2**i,2):\n",
    "                x = lines[2**(i-1) + count][1][0] # x value              \n",
    "                yb = lines[2**(i-1) + count][0][1] # y bottom\n",
    "                lines[2**(i)+j] = [[x - linelen/2, yb],[x + linelen/2, yb]]\n",
    "                yu = lines[2**(i-1) + count][1][1]  # y upper                 \n",
    "                lines[2**(i)+j+1] = [[x - linelen/2, yu],[x + linelen/2, yu]]\n",
    "                count += 1\n",
    "        else: \n",
    "            linelen = abs(lines[2**(i-1)][0][0] - lines[2**(i-1)][1][0])*.6\n",
    "            count = 0\n",
    "            for j in range(0,2**i,2):\n",
    "                y = lines[2**(i-1) + count][0][1] # y value              \n",
    "                xl = lines[2**(i-1) + count][0][0] # x left\n",
    "                lines[2**(i)+j] = [[xl, y + linelen/2],[xl, y - linelen/2]]\n",
    "                xr = lines[2**(i-1) + count][1][0]  # x right\n",
    "                lines[2**(i)+j+1] = [[xr, y + linelen/2],[xr, y - linelen/2]]\n",
    "                count += 1\n",
    "    return(lines)\n",
    "               \n",
    "             \n",
    "n = 3\n",
    "lines = frac_tree(n)\n",
    "lc = mc.LineCollection(lines, linewidths=1)\n",
    "r=6\n",
    "fig, ax = pl.subplots(figsize = (r,r))\n",
    "ax.add_collection(lc)\n",
    "#ax.autoscale()\n",
    "ax.set_xlim(-10,10)\n",
    "ax.set_ylim(-2,20)\n",
    "ax.margins(0.1)\n",
    "ax.autoscale(False)\n",
    "plt.show()"
   ]
  },
  {
   "cell_type": "code",
   "execution_count": 47,
   "metadata": {},
   "outputs": [
    {
     "name": "stdout",
     "output_type": "stream",
     "text": [
      "[[-5.0, 10.0], [-5.0, 13.0]]\n",
      "[[-5.0, 10.0], [-5.0, 7.0]]\n",
      "[[-3.2000000000000002, 13.0], [-3.2000000000000002, 14.08]]\n",
      "[[-3.2000000000000002, 13.0], [-3.2000000000000002, 11.92]]\n",
      "[[-6.7999999999999998, 13.0], [-6.7999999999999998, 14.08]]\n",
      "[[-6.7999999999999998, 13.0], [-6.7999999999999998, 11.92]]\n",
      "[[-3.2000000000000002, 7.0], [-3.2000000000000002, 8.0800000000000001]]\n",
      "[[-3.2000000000000002, 7.0], [-3.2000000000000002, 5.9199999999999999]]\n",
      "[[-6.7999999999999998, 7.0], [-6.7999999999999998, 8.0800000000000001]]\n",
      "[[-6.7999999999999998, 7.0], [-6.7999999999999998, 5.9199999999999999]]\n"
     ]
    },
    {
     "data": {
      "image/png": "[encoded data removed]",
      "text/plain": [
       "<matplotlib.figure.Figure at 0x7fae0a1d0b70>"
      ]
     },
     "metadata": {
      "needs_background": "light"
     },
     "output_type": "display_data"
    }
   ],
   "source": [
    "import numpy as np\n",
    "import pylab as pl\n",
    "from matplotlib import collections  as mc\n",
    "import matplotlib.pyplot as plt\n",
    "\n",
    "def frac_tree_left(n):\n",
    "    # summation 2^n\n",
    "    lines = np.zeros((2**(n+1), 2, 2))\n",
    "    lines[0] = [[0, 0], [0, 10]]\n",
    "    lines[1] = [[0,10], [-5,10]]\n",
    "    ll = 5\n",
    "    theta = np.radians(90)\n",
    "    for i in range(1,n+1):\n",
    "        ll = ll * .6\n",
    "        count = 0\n",
    "        # if the current lines are vertical make next ones horizontal\n",
    "        if lines[2**(i-1)][0][0] == lines[2**(i-1)][1][0]:\n",
    "            for j in range(0,2**i,2):\n",
    "                y = ll * np.cos(theta) #zero\n",
    "                x = ll * np.sin(theta)\n",
    "                x_o = lines[2**(i-1) + count][1][0]\n",
    "                y_o = lines[2**(i-1) + count][1][1]\n",
    "                lines[2**i+j] = [[x_o, y_o], [x + x_o,y + y_o]]\n",
    "                lines[2**i+j+1] = [[x_o, y_o], [x_o - x ,y_o - y]]\n",
    "                count += 1\n",
    "        else:\n",
    "            for j in range(0,2**i,2):\n",
    "                x = ll * np.cos(theta)\n",
    "                y = ll * np.sin(theta)\n",
    "                x_o = lines[2**(i-1) + count][1][0]\n",
    "                y_o = lines[2**(i-1) + count][1][1]\n",
    "                a = lines[2**(i)+j] = [[x_o, y_o], [x + x_o,y + y_o]]\n",
    "                b = lines[2**(i)+j+1] = [[x_o, y_o], [x_o - x ,y_o - y]]\n",
    "                print(a)\n",
    "                print(b)\n",
    "                count += 1    \n",
    "    return(lines)\n",
    "\n",
    "def frac_tree_right(n):\n",
    "    # summation 2^n\n",
    "    lines = np.zeros((2**(n+1), 2, 2))\n",
    "    lines[0] = [[0, 0], [0, 10]]\n",
    "    lines[1] = [[0,10], [5,10]]\n",
    "    ll = 5\n",
    "    theta = np.radians(80)\n",
    "    for i in range(1,n+1):\n",
    "        ll = ll * .6\n",
    "        count = 0\n",
    "        for j in range(0,2**i,2):\n",
    "            y = ll * np.cos(theta) #zero\n",
    "            x = ll * np.sin(theta)\n",
    "            x_o = lines[2**(i-1) + count][1][0]\n",
    "            y_o = lines[2**(i-1) + count][1][1]\n",
    "            lines[2**i+j] = [[x_o, y_o], [x + x_o,y + y_o]]\n",
    "            lines[2**i+j+1] = [[x_o, y_o], [x_o - x ,y_o - y]]\n",
    "            count += 1        \n",
    "                \n",
    "        # if the current lines are vertical make next ones horizontal\n",
    "        if lines[2**(i-1)][0][0] == lines[2**(i-1)][1][0]:\n",
    "            for j in range(0,2**i,2):\n",
    "                y = ll * np.cos(theta) #zero\n",
    "                x = ll * np.sin(theta)\n",
    "                x_o = lines[2**(i-1) + count][1][0]\n",
    "                y_o = lines[2**(i-1) + count][1][1]\n",
    "                lines[2**i+j] = [[x_o, y_o], [x + x_o,y + y_o]]\n",
    "                lines[2**i+j+1] = [[x_o, y_o], [x_o - x ,y_o - y]]\n",
    "                count += 1\n",
    "        else:\n",
    "            for j in range(0,2**i,2):\n",
    "                x = ll * np.cos(theta)\n",
    "                y = ll * np.sin(theta)\n",
    "                x_o = lines[2**(i-1) + count][1][0]\n",
    "                y_o = lines[2**(i-1) + count][1][1]\n",
    "                a = lines[2**(i)+j] = [[x_o, y_o], [x + x_o,y + y_o]]\n",
    "                b = lines[2**(i)+j+1] = [[x_o, y_o], [x_o - x ,y_o - y]]\n",
    "                print(a)\n",
    "                print(b)\n",
    "                count += 1    \n",
    "    return(lines)\n",
    "               \n",
    "             \n",
    "n = 4\n",
    "lines_r = frac_tree_right(n)\n",
    "lines_l = frac_tree_left(n)\n",
    "#print(lines)\n",
    "lcr = mc.LineCollection(lines_r, linewidths=1)\n",
    "lcl = mc.LineCollection(lines_l, linewidths=1)\n",
    "\n",
    "r=6\n",
    "fig, ax = pl.subplots(figsize = (r,r))\n",
    "ax.add_collection(lcr)\n",
    "ax.add_collection(lcl)\n",
    "#ax.autoscale()\n",
    "ax.set_xlim(-10,10)\n",
    "ax.set_ylim(-2,20)\n",
    "ax.margins(0.1)\n",
    "ax.autoscale(False)\n",
    "plt.show()"
   ]
  },
  {
   "cell_type": "code",
   "execution_count": 80,
   "metadata": {},
   "outputs": [
    {
     "name": "stdout",
     "output_type": "stream",
     "text": [
      "first line is  [[  0.  10.]\n",
      " [  0.  15.]]\n",
      "[[[  0.     10.   ]\n",
      "  [ -5.     10.   ]]\n",
      "\n",
      " [[  0.     10.   ]\n",
      "  [  5.     10.   ]]\n",
      "\n",
      " [[  5.     10.   ]\n",
      "  [  5.     13.   ]]\n",
      "\n",
      " [[  5.     10.   ]\n",
      "  [  5.      7.   ]]\n",
      "\n",
      " [[  5.     13.   ]\n",
      "  [  6.8    13.   ]]\n",
      "\n",
      " [[  5.     13.   ]\n",
      "  [  3.2    13.   ]]\n",
      "\n",
      " [[  5.      7.   ]\n",
      "  [  6.8     7.   ]]\n",
      "\n",
      " [[  5.      7.   ]\n",
      "  [  3.2     7.   ]]\n",
      "\n",
      " [[  6.8    13.   ]\n",
      "  [  6.8    14.08 ]]\n",
      "\n",
      " [[  6.8    13.   ]\n",
      "  [  6.8    11.92 ]]\n",
      "\n",
      " [[  3.2    13.   ]\n",
      "  [  3.2    14.08 ]]\n",
      "\n",
      " [[  3.2    13.   ]\n",
      "  [  3.2    11.92 ]]\n",
      "\n",
      " [[  6.8     7.   ]\n",
      "  [  6.8     8.08 ]]\n",
      "\n",
      " [[  6.8     7.   ]\n",
      "  [  6.8     5.92 ]]\n",
      "\n",
      " [[  3.2     7.   ]\n",
      "  [  3.2     8.08 ]]\n",
      "\n",
      " [[  3.2     7.   ]\n",
      "  [  3.2     5.92 ]]\n",
      "\n",
      " [[  6.8    14.08 ]\n",
      "  [  7.448  14.08 ]]\n",
      "\n",
      " [[  6.8    14.08 ]\n",
      "  [  6.152  14.08 ]]\n",
      "\n",
      " [[  6.8    11.92 ]\n",
      "  [  7.448  11.92 ]]\n",
      "\n",
      " [[  6.8    11.92 ]\n",
      "  [  6.152  11.92 ]]\n",
      "\n",
      " [[  3.2    14.08 ]\n",
      "  [  3.848  14.08 ]]\n",
      "\n",
      " [[  3.2    14.08 ]\n",
      "  [  2.552  14.08 ]]\n",
      "\n",
      " [[  3.2    11.92 ]\n",
      "  [  3.848  11.92 ]]\n",
      "\n",
      " [[  3.2    11.92 ]\n",
      "  [  2.552  11.92 ]]\n",
      "\n",
      " [[  6.8     8.08 ]\n",
      "  [  7.448   8.08 ]]\n",
      "\n",
      " [[  6.8     8.08 ]\n",
      "  [  6.152   8.08 ]]\n",
      "\n",
      " [[  6.8     5.92 ]\n",
      "  [  7.448   5.92 ]]\n",
      "\n",
      " [[  6.8     5.92 ]\n",
      "  [  6.152   5.92 ]]\n",
      "\n",
      " [[  3.2     8.08 ]\n",
      "  [  3.848   8.08 ]]\n",
      "\n",
      " [[  3.2     8.08 ]\n",
      "  [  2.552   8.08 ]]\n",
      "\n",
      " [[  3.2     5.92 ]\n",
      "  [  3.848   5.92 ]]\n",
      "\n",
      " [[  3.2     5.92 ]\n",
      "  [  2.552   5.92 ]]\n",
      "\n",
      " [[  0.      0.   ]\n",
      "  [  0.     10.   ]]]\n"
     ]
    },
    {
     "name": "stderr",
     "output_type": "stream",
     "text": [
      "/home/rey/.local/lib/python3.6/site-packages/ipykernel_launcher.py:22: RuntimeWarning: divide by zero encountered in double_scalars\n"
     ]
    },
    {
     "data": {
      "image/png": "[encoded data removed]",
      "text/plain": [
       "<matplotlib.figure.Figure at 0x7fae0a487358>"
      ]
     },
     "metadata": {
      "needs_background": "light"
     },
     "output_type": "display_data"
    }
   ],
   "source": [
    "import numpy as np\n",
    "import pylab as pl\n",
    "from matplotlib import collections  as mc\n",
    "import matplotlib.pyplot as plt\n",
    "\n",
    "\n",
    "def frac_tree_right(n):\n",
    "    # summation 2^n\n",
    "    lines = np.zeros((2**(n+1), 2, 2))\n",
    "    theta = np.radians(0)\n",
    "    ll = 5\n",
    "    lines[0] = [[0, 0], [0, 10]]\n",
    "    start = lines[0][1]\n",
    "    lines[1] = [[start[0], start[1]], [start[0] +  ll * np.sin(theta), start[1] + ll * np.cos(theta) ]]\n",
    "    print('first line is ', lines[1])\n",
    "    for i in range(1,n+1):\n",
    "        ll = ll * .6\n",
    "        count = 0\n",
    "        for j in range(0,2**i,2):\n",
    "            prev_start = start\n",
    "            start = lines[2**(i-1) + count][1]\n",
    "            prev_theta = np.arctan((start[1]-prev_start[1])/(start[0]-prev_start[0]))\n",
    "            y = ll * np.cos(prev_theta)\n",
    "            x = ll * np.sin(prev_theta)\n",
    "            yp = np.cos(theta) * y - np.sin(theta) * x\n",
    "            xp = np.sin(theta) * y + np.cos(theta) * x\n",
    "            lines[2**i+j] = [[start[0], start[1]], [xp + start[0],yp + start[1]]]\n",
    "            lines[2**i+j+1] = [[start[0], start[1]], [xp - start[0],yp - start[1]]]\n",
    "            count += 1        \n",
    "                 \n",
    "    return(lines)\n",
    "               \n",
    "             \n",
    "n = 1\n",
    "lines_r = frac_tree_right(n)\n",
    "lines_l = frac_tree_left(n)\n",
    "print(lines)\n",
    "lcr = mc.LineCollection(lines_r, linewidths=1)\n",
    "lcl = mc.LineCollection(lines_l, linewidths=1)\n",
    "\n",
    "r=6\n",
    "fig, ax = pl.subplots(figsize = (r,r))\n",
    "ax.add_collection(lcr)\n",
    "ax.add_collection(lcl)\n",
    "#ax.autoscale()\n",
    "ax.set_xlim(-10,10)\n",
    "ax.set_ylim(-2,20)\n",
    "ax.margins(0.1)\n",
    "ax.autoscale(False)\n",
    "plt.show()"
   ]
  },
  {
   "cell_type": "raw",
   "metadata": {},
   "source": [
    "print(np.arctan2(1,1))"
   ]
  },
  {
   "cell_type": "code",
   "execution_count": 82,
   "metadata": {},
   "outputs": [
    {
     "name": "stdout",
     "output_type": "stream",
     "text": [
      "-2.35619449019\n"
     ]
    }
   ],
   "source": [
    "print(np.arctan2(-1,-1))"
   ]
  }
 ],
 "metadata": {
  "kernelspec": {
   "display_name": "Python 3",
   "language": "python",
   "name": "python3"
  },
  "language_info": {
   "codemirror_mode": {
    "name": "ipython",
    "version": 3
   },
   "file_extension": ".py",
   "mimetype": "text/x-python",
   "name": "python",
   "nbconvert_exporter": "python",
   "pygments_lexer": "ipython3",
   "version": "3.6.9"
  }
 },
 "nbformat": 4,
 "nbformat_minor": 2
}
